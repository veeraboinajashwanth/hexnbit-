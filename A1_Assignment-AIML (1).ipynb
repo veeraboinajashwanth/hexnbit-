{
 "cells": [
  {
   "cell_type": "markdown",
   "metadata": {},
   "source": [
    "<a href='https://www.hexnbit.com/'> <img src='https://www.hexnbit.com/wp-content/uploads/2019/09/hexnbit_final_66px.png'/> </a>"
   ]
  },
  {
   "cell_type": "markdown",
   "metadata": {},
   "source": [
    "# Assignment"
   ]
  },
  {
   "cell_type": "markdown",
   "metadata": {},
   "source": [
    "Mentioned below are the tasks, the solution for each tasks has to be appended by inserting a new cell below the task,\n",
    "along with the following description:-\n",
    "1. Why the method was used (if applicable)\n",
    "2. Explanation of logic"
   ]
  },
  {
   "cell_type": "markdown",
   "metadata": {},
   "source": [
    "### Task 1\n",
    "- Generate integer between (100 to 200) using while loop.\n",
    "- if i want number till 155"
   ]
  },
  {
   "cell_type": "code",
   "execution_count": null,
   "metadata": {},
   "outputs": [],
   "source": [
    "# task 1\n",
    "i = 100\n",
    "while i <= 200:\n",
    "    print(i)\n",
    "    i+= 1   # we can also write i = i+1\n",
    "print(\"series printed\")"
   ]
  },
  {
   "cell_type": "code",
   "execution_count": null,
   "metadata": {
    "scrolled": true
   },
   "outputs": [],
   "source": [
    "i = 100\n",
    "while i <= 200:\n",
    "    print(i)\n",
    "    i += 1   # you can also write i= i+1\n",
    "    if(i==156):\n",
    "        print(\"Breaking from loop\")\n",
    "        break\n",
    "print(\"series printed\")"
   ]
  },
  {
   "cell_type": "markdown",
   "metadata": {},
   "source": [
    "### Task 2\n",
    "Refer task 1 and print even and odd number."
   ]
  },
  {
   "cell_type": "code",
   "execution_count": null,
   "metadata": {
    "scrolled": true
   },
   "outputs": [],
   "source": [
    "# even numbers\n",
    "i = 100\n",
    "while i <= 200:\n",
    "    print(i)\n",
    "    i = i+2   \n",
    "print(\"series printed\")"
   ]
  },
  {
   "cell_type": "code",
   "execution_count": null,
   "metadata": {},
   "outputs": [],
   "source": [
    "# odd numbers\n",
    "i = 100\n",
    "\n",
    "while i <= 200:\n",
    "    if i % 2 != 0:  # Check if the number is odd\n",
    "        print(i)\n",
    "    i += 1  "
   ]
  },
  {
   "cell_type": "markdown",
   "metadata": {},
   "source": [
    "### Task 3\n",
    "Take value from the user and Seprate them into Positive & negative number."
   ]
  },
  {
   "cell_type": "code",
   "execution_count": null,
   "metadata": {},
   "outputs": [],
   "source": [
    "p_num = []\n",
    "n_num = []\n",
    "\n",
    "while True:\n",
    "\n",
    "        num = int(input(\"Enter a number (type '0' to stop): \"))\n",
    "        \n",
    "        if num == 0:\n",
    "            break\n",
    "        elif num > 0:           # check for the positive condition \n",
    "            p_num.append(num)\n",
    "        else:\n",
    "            n_num.append(num)\n",
    "            \n",
    "\n",
    "\n",
    "print(\"Positive numbers:\", p_num)\n",
    "print(\"Negative numbers:\", n_num)\n"
   ]
  },
  {
   "cell_type": "markdown",
   "metadata": {},
   "source": [
    "### Task 4\n",
    "thistuple = (\"apple\", \"banana\", \"cherry\", \"orange\", \"kiwi\", \"melon\", \"mango\")<br>Print thistuple in reverse format."
   ]
  },
  {
   "cell_type": "code",
   "execution_count": null,
   "metadata": {},
   "outputs": [],
   "source": [
    "thistuple = (\"apple\", \"banana\", \"cherry\", \"orange\", \"kiwi\", \"melon\", \"mango\")"
   ]
  },
  {
   "cell_type": "code",
   "execution_count": null,
   "metadata": {},
   "outputs": [],
   "source": [
    "print(thistuple[::-1])  # invert list"
   ]
  },
  {
   "cell_type": "markdown",
   "metadata": {},
   "source": [
    "### Task 5\n",
    "Calculate mean, median, mode and standard deviation of given list.<br>\n",
    "A=[2,5,6,9,7,3]<br>B=[2,5,3,2,8,3,2,1,9,4,2,5,6]<br>C=[1,1.5,2,2.5,3,3.5,4,5,6,4.5,5]"
   ]
  },
  {
   "cell_type": "code",
   "execution_count": null,
   "metadata": {},
   "outputs": [],
   "source": [
    "import statistics\n",
    "\n",
    "# Given lists\n",
    "A = [2, 5, 6, 9, 7, 3]\n",
    "B = [2, 5, 3, 2, 8, 3, 2, 1, 9, 4, 2, 5, 6]\n",
    "C = [1, 1.5, 2, 2.5, 3, 3.5, 4, 5, 6, 4.5, 5]\n",
    "\n",
    "# Calculate statistics for each list\n",
    "mean_A = statistics.mean(A)\n",
    "median_A = statistics.median(A)\n",
    "mode_A = statistics.mode(A)\n",
    "std_dev_A = statistics.stdev(A)\n",
    "\n",
    "mean_B = statistics.mean(B)\n",
    "median_B = statistics.median(B)\n",
    "mode_B = statistics.mode(B)\n",
    "std_dev_B = statistics.stdev(B)\n",
    "\n",
    "mean_C = statistics.mean(C)\n",
    "median_C = statistics.median(C)\n",
    "mode_C = statistics.mode(C)\n",
    "std_dev_C = statistics.stdev(C)\n",
    "\n",
    "# Display the results\n",
    "print(\"List A:\")\n",
    "print(\"Mean:\", mean_A)\n",
    "print(\"Median:\", median_A)\n",
    "print(\"Mode:\", mode_A)\n",
    "print(\"Standard Deviation:\", std_dev_A)\n",
    "\n",
    "print(\"\\nList B:\")\n",
    "print(\"Mean:\", mean_B)\n",
    "print(\"Median:\", median_B)\n",
    "print(\"Mode:\", mode_B)\n",
    "print(\"Standard Deviation:\", std_dev_B)\n",
    "\n",
    "print(\"\\nList C:\")\n",
    "print(\"Mean:\", mean_C)\n",
    "print(\"Median:\", median_C)\n",
    "print(\"Mode:\", mode_C)\n",
    "print(\"Standard Deviation:\", std_dev_C)"
   ]
  },
  {
   "cell_type": "markdown",
   "metadata": {},
   "source": [
    "### Task 6:\n",
    "- Write a program to find compound interest\n",
    "- A = P(1 + R/100) t\n",
    "\n",
    "    Compound Interest = A – P\n",
    "    Where,\n",
    "    \n",
    "    A is amount\n",
    "    \n",
    "    P is principle amount\n",
    "    \n",
    "    R is the rate and\n",
    "    \n",
    "    T is the time span"
   ]
  },
  {
   "cell_type": "code",
   "execution_count": null,
   "metadata": {},
   "outputs": [],
   "source": [
    "# program to find compound interest\n",
    "\n",
    "principal = int(input(\"Principal Amount is : \"))\n",
    "rate = float(input(\"Rate is : \"))\n",
    "time = float(input(\"Time is : \"))\n",
    "\n",
    "def c_int(principal, rate, time):\n",
    " \n",
    "    Amount = principal * (pow((1 + rate / 100), time))\n",
    "    CI = Amount - principal\n",
    "    print(\"Compound interest is\", CI)\n",
    "\n",
    "c_int(principal, rate, time)"
   ]
  },
  {
   "cell_type": "markdown",
   "metadata": {},
   "source": [
    "### Task 7:\n",
    "Write a Python program to sum all the items in a list.\n",
    "[2,3,4,-4,5,6,7,12]\n"
   ]
  },
  {
   "cell_type": "code",
   "execution_count": null,
   "metadata": {},
   "outputs": [],
   "source": [
    "# program to find sum of elements in list\n",
    " \n",
    "Sum = 0\n",
    " \n",
    "# creating a list\n",
    "list1 = [2,3,4,-4,5,6,7,12]\n",
    " \n",
    "for ele in range(0, len(list1)):\n",
    "    Sum = Sum + list1[ele]\n",
    "    \n",
    "print(\"Sum of all elements in given list: \", Sum)"
   ]
  },
  {
   "cell_type": "markdown",
   "metadata": {},
   "source": [
    "### Task 8\n",
    "\n",
    "- A company decided to give bonus of 5% to employee if his/her year of service is more than 5 years.\n",
    "    Ask user for their salary and year of service and print the net bonus amount.\n"
   ]
  },
  {
   "cell_type": "code",
   "execution_count": null,
   "metadata": {},
   "outputs": [],
   "source": [
    "salary = float(input(\"Enter salary : \"))\n",
    "y_of_service = float(input(\"Enter year of service : \"))\n",
    "if y_of_service>5:             # condition to check the year of service\n",
    "    print(\"Bonus is\",.05*salary)\n",
    "else:\n",
    "    print(\"No bonus\")"
   ]
  },
  {
   "cell_type": "markdown",
   "metadata": {},
   "source": [
    "### Task 9:\n",
    "- Take values of length and breadth of a rectangle from user and check if it is square or not.\n",
    "- Take two int values from user and print greatest among them."
   ]
  },
  {
   "cell_type": "code",
   "execution_count": null,
   "metadata": {},
   "outputs": [],
   "source": [
    "# program to check whether a rectangle is square or not \n",
    "length = input(\"Enter length\")\n",
    "breadth = input(\"Enter breadth\")\n",
    "if length == breadth:\n",
    "    print(\"Yes, it is square\")\n",
    "else:\n",
    "    print(\"No, it is only Rectangle\")"
   ]
  },
  {
   "cell_type": "code",
   "execution_count": null,
   "metadata": {},
   "outputs": [],
   "source": [
    "a = input()\n",
    "b = input()\n",
    "if a>b:\n",
    "    print(\"Greatest is\",a)\n",
    "elif b>a:\n",
    "    print(\"Greatest is\",b)\n",
    "else:\n",
    "    print(\"Both are equal\")"
   ]
  },
  {
   "cell_type": "markdown",
   "metadata": {},
   "source": [
    "### Task 10: \n",
    "\n",
    "- A student will not be allowed to sit in exam if his/her attendence is less than 75%.\n",
    "    Take following input from user\n",
    "    Number of classes held\n",
    "    Number of classes attended.\n",
    "    And print\n",
    "    percentage of class attended\n",
    "    Is student is allowed to sit in exam or not.\n",
    "\n",
    "- Modify the above question to allow student to sit if he/she has medical cause. Ask user if he/she has medical cause or not ( 'Y' or 'N' ) and print accordingly."
   ]
  },
  {
   "cell_type": "code",
   "execution_count": null,
   "metadata": {},
   "outputs": [],
   "source": [
    "no_class_held = float(input(\"Number of classes held : \")) \n",
    "no_class_attended = float(input(\"Number of classes attended : \"))\n",
    "attend_percent = (no_class_attended/float(no_class_held))*100\n",
    "print (\"Attendence is\",attend_percent,\"%\")\n",
    "if attend_percent >= 75:\n",
    "    print(\"You are allowed to sit in exam\")\n",
    "else:\n",
    "    print(\"Sorry, you are not allowed. Attend more classes from next time.\")"
   ]
  },
  {
   "cell_type": "code",
   "execution_count": null,
   "metadata": {
    "scrolled": false
   },
   "outputs": [],
   "source": [
    "no_class_held = float(input(\"Number of classes held : \")) \n",
    "no_class_attended = float(input(\"Number of classes attended : \"))\n",
    "attend_percent = (no_class_attended/float(no_class_held))*100\n",
    "print (\"Attendence is\",attend_percent,\"%\")\n",
    "medical_cause = input(\"Any medical issues : \")\n",
    "if attend_percent >= 75:\n",
    "    print(\"You are allowed to sit in exam\")\n",
    "elif medical_cause == 'Y':\n",
    "    print(\"You are allowed\")\n",
    "else:\n",
    "    print(\"Sorry, you are not allowed. Attend more classes from next time.\")"
   ]
  },
  {
   "cell_type": "markdown",
   "metadata": {},
   "source": [
    "### Task 11:\n",
    "- Write a program to find prime factor of a number.\n",
    "If a factor of a number is prime number then it is its prime factor.\n",
    "- Write a program to print all prime number in between 1 to 100. "
   ]
  },
  {
   "cell_type": "code",
   "execution_count": null,
   "metadata": {},
   "outputs": [],
   "source": [
    "# program to find prime factor of a number\n",
    "Number = int(input(\" Please Enter any Number: \"))\n",
    "\n",
    "for i in range(2, Number + 1):\n",
    "    if(Number % i == 0):\n",
    "        isprime = 1\n",
    "        for j in range(2, (i //2 + 1)):\n",
    "            if(i % j == 0):\n",
    "                isprime = 0\n",
    "                break\n",
    "            \n",
    "        if (isprime == 1):\n",
    "            print(\" %d is a Prime Factor of a Given Number %d\" %(i, Number))\n"
   ]
  },
  {
   "cell_type": "code",
   "execution_count": null,
   "metadata": {},
   "outputs": [],
   "source": [
    "# program for printing prime factors between 1 to 100\n",
    "\n",
    "num=100  \n",
    "for a in range(2,num+1):  \n",
    "    k=0  \n",
    "    for i in range(2,a//2+1):  \n",
    "        if(a%i==0):  \n",
    "            k=k+1  \n",
    "    if(k<=0):  \n",
    "        print(a, end = \" \")"
   ]
  },
  {
   "cell_type": "markdown",
   "metadata": {},
   "source": [
    "### Task 12\n",
    "- Write a program to print Fibonacci series up to n terms\n",
    "    - *Hint:* 0, 1, 1, 2, 3, 5, 8, 13, 21... "
   ]
  },
  {
   "cell_type": "code",
   "execution_count": null,
   "metadata": {},
   "outputs": [],
   "source": [
    "# Function for nth Fibonacci number\n",
    "num = int(input())\n",
    "\n",
    "n1, n2 = 0, 1\n",
    "print(\"Fibonacci Series:\", n1, n2, end=\" \")\n",
    "for i in range(2, num):\n",
    "    n3 = n1 + n2\n",
    "    n1 = n2\n",
    "    n2 = n3\n",
    "    print(n3, end=\" \")\n",
    "\n",
    "print()"
   ]
  },
  {
   "cell_type": "markdown",
   "metadata": {},
   "source": [
    "### Task 13:\n",
    "Print the following patterns using loop :\n",
    "\n",
    "    a.\n",
    "        *\n",
    "        **\n",
    "        ***\n",
    "        ****\n",
    "    b.\n",
    "          *  \n",
    "         *** \n",
    "        *****\n",
    "         *** \n",
    "          *  \n",
    "    "
   ]
  },
  {
   "cell_type": "code",
   "execution_count": null,
   "metadata": {},
   "outputs": [],
   "source": [
    "# program for Left triangle star pattern\n",
    "n = 4\n",
    "\n",
    "for i in range(1, n+1):\n",
    "                           \n",
    "    for k in range(1, i+1):     # loop for i times\n",
    "        print(\"*\", end=\"\")\n",
    "    print()"
   ]
  },
  {
   "cell_type": "code",
   "execution_count": null,
   "metadata": {},
   "outputs": [],
   "source": [
    "# program to print diamond star pattern\n",
    "n = 3\n",
    "\n",
    "# upward pyramid\n",
    "for i in range(n):\n",
    "    for j in range(n - i - 1):\n",
    "        print(' ', end='')\n",
    "    for j in range(2 * i + 1):\n",
    "        print('*', end='')\n",
    "    print()\n",
    "\n",
    "# downward pyramid\n",
    "for i in range(n - 1):\n",
    "    for j in range(i + 1):\n",
    "        print(' ', end='')\n",
    "    for j in range(2*(n - i - 1) - 1):\n",
    "        print('*', end='')\n",
    "    print()"
   ]
  },
  {
   "cell_type": "markdown",
   "metadata": {},
   "source": [
    "### Task 14:\n",
    "- Create a function that accepts a string and calculate the number of upper case letters and lower case letters"
   ]
  },
  {
   "cell_type": "code",
   "execution_count": null,
   "metadata": {},
   "outputs": [],
   "source": [
    "Str=input(\"String is : \")\n",
    "lower=0\n",
    "upper=0\n",
    "for i in Str:\n",
    "    if(i.islower()):\n",
    "            lower+=1\n",
    "    else:\n",
    "        upper+=1\n",
    "print(\"The number of lowercase characters is:\",lower)\n",
    "print(\"The number of uppercase characters is:\",upper)"
   ]
  },
  {
   "cell_type": "markdown",
   "metadata": {},
   "source": [
    "### Task 15\n",
    "\n",
    "- Write a Python program to convert radian to degree with using math module"
   ]
  },
  {
   "cell_type": "code",
   "execution_count": null,
   "metadata": {},
   "outputs": [],
   "source": [
    "# program to convert radian to degree\n",
    "import math \n",
    "\n",
    "rad = float(input(\"Enter the Radians : \"))\n",
    "print(math.degrees(rad))"
   ]
  },
  {
   "cell_type": "code",
   "execution_count": null,
   "metadata": {},
   "outputs": [],
   "source": []
  }
 ],
 "metadata": {
  "kernelspec": {
   "display_name": "Python 3 (ipykernel)",
   "language": "python",
   "name": "python3"
  },
  "language_info": {
   "codemirror_mode": {
    "name": "ipython",
    "version": 3
   },
   "file_extension": ".py",
   "mimetype": "text/x-python",
   "name": "python",
   "nbconvert_exporter": "python",
   "pygments_lexer": "ipython3",
   "version": "3.10.9"
  }
 },
 "nbformat": 4,
 "nbformat_minor": 4
}
